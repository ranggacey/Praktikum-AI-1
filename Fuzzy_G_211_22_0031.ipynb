{
  "nbformat": 4,
  "nbformat_minor": 0,
  "metadata": {
    "colab": {
      "provenance": [],
      "authorship_tag": "ABX9TyNhMh1w3ilGUIzUV3xt9fl4",
      "include_colab_link": true
    },
    "kernelspec": {
      "name": "python3",
      "display_name": "Python 3"
    },
    "language_info": {
      "name": "python"
    }
  },
  "cells": [
    {
      "cell_type": "markdown",
      "metadata": {
        "id": "view-in-github",
        "colab_type": "text"
      },
      "source": [
        "<a href=\"https://colab.research.google.com/github/ranggacey/Praktikum-AI-1/blob/main/Fuzzy_G_211_22_0031.ipynb\" target=\"_parent\"><img src=\"https://colab.research.google.com/assets/colab-badge.svg\" alt=\"Open In Colab\"/></a>"
      ]
    },
    {
      "cell_type": "code",
      "execution_count": 1,
      "metadata": {
        "colab": {
          "base_uri": "https://localhost:8080/",
          "height": 105
        },
        "id": "8l9rcmwzja7N",
        "outputId": "fd3f30a4-e0cf-4571-e536-50d0d9306262"
      },
      "outputs": [
        {
          "output_type": "display_data",
          "data": {
            "text/plain": [
              "<IPython.core.display.HTML object>"
            ],
            "text/html": [
              "\n",
              "     <input type=\"file\" id=\"files-87885004-4428-45f9-9891-932f2d216b4d\" name=\"files[]\" multiple disabled\n",
              "        style=\"border:none\" />\n",
              "     <output id=\"result-87885004-4428-45f9-9891-932f2d216b4d\">\n",
              "      Upload widget is only available when the cell has been executed in the\n",
              "      current browser session. Please rerun this cell to enable.\n",
              "      </output>\n",
              "      <script>// Copyright 2017 Google LLC\n",
              "//\n",
              "// Licensed under the Apache License, Version 2.0 (the \"License\");\n",
              "// you may not use this file except in compliance with the License.\n",
              "// You may obtain a copy of the License at\n",
              "//\n",
              "//      http://www.apache.org/licenses/LICENSE-2.0\n",
              "//\n",
              "// Unless required by applicable law or agreed to in writing, software\n",
              "// distributed under the License is distributed on an \"AS IS\" BASIS,\n",
              "// WITHOUT WARRANTIES OR CONDITIONS OF ANY KIND, either express or implied.\n",
              "// See the License for the specific language governing permissions and\n",
              "// limitations under the License.\n",
              "\n",
              "/**\n",
              " * @fileoverview Helpers for google.colab Python module.\n",
              " */\n",
              "(function(scope) {\n",
              "function span(text, styleAttributes = {}) {\n",
              "  const element = document.createElement('span');\n",
              "  element.textContent = text;\n",
              "  for (const key of Object.keys(styleAttributes)) {\n",
              "    element.style[key] = styleAttributes[key];\n",
              "  }\n",
              "  return element;\n",
              "}\n",
              "\n",
              "// Max number of bytes which will be uploaded at a time.\n",
              "const MAX_PAYLOAD_SIZE = 100 * 1024;\n",
              "\n",
              "function _uploadFiles(inputId, outputId) {\n",
              "  const steps = uploadFilesStep(inputId, outputId);\n",
              "  const outputElement = document.getElementById(outputId);\n",
              "  // Cache steps on the outputElement to make it available for the next call\n",
              "  // to uploadFilesContinue from Python.\n",
              "  outputElement.steps = steps;\n",
              "\n",
              "  return _uploadFilesContinue(outputId);\n",
              "}\n",
              "\n",
              "// This is roughly an async generator (not supported in the browser yet),\n",
              "// where there are multiple asynchronous steps and the Python side is going\n",
              "// to poll for completion of each step.\n",
              "// This uses a Promise to block the python side on completion of each step,\n",
              "// then passes the result of the previous step as the input to the next step.\n",
              "function _uploadFilesContinue(outputId) {\n",
              "  const outputElement = document.getElementById(outputId);\n",
              "  const steps = outputElement.steps;\n",
              "\n",
              "  const next = steps.next(outputElement.lastPromiseValue);\n",
              "  return Promise.resolve(next.value.promise).then((value) => {\n",
              "    // Cache the last promise value to make it available to the next\n",
              "    // step of the generator.\n",
              "    outputElement.lastPromiseValue = value;\n",
              "    return next.value.response;\n",
              "  });\n",
              "}\n",
              "\n",
              "/**\n",
              " * Generator function which is called between each async step of the upload\n",
              " * process.\n",
              " * @param {string} inputId Element ID of the input file picker element.\n",
              " * @param {string} outputId Element ID of the output display.\n",
              " * @return {!Iterable<!Object>} Iterable of next steps.\n",
              " */\n",
              "function* uploadFilesStep(inputId, outputId) {\n",
              "  const inputElement = document.getElementById(inputId);\n",
              "  inputElement.disabled = false;\n",
              "\n",
              "  const outputElement = document.getElementById(outputId);\n",
              "  outputElement.innerHTML = '';\n",
              "\n",
              "  const pickedPromise = new Promise((resolve) => {\n",
              "    inputElement.addEventListener('change', (e) => {\n",
              "      resolve(e.target.files);\n",
              "    });\n",
              "  });\n",
              "\n",
              "  const cancel = document.createElement('button');\n",
              "  inputElement.parentElement.appendChild(cancel);\n",
              "  cancel.textContent = 'Cancel upload';\n",
              "  const cancelPromise = new Promise((resolve) => {\n",
              "    cancel.onclick = () => {\n",
              "      resolve(null);\n",
              "    };\n",
              "  });\n",
              "\n",
              "  // Wait for the user to pick the files.\n",
              "  const files = yield {\n",
              "    promise: Promise.race([pickedPromise, cancelPromise]),\n",
              "    response: {\n",
              "      action: 'starting',\n",
              "    }\n",
              "  };\n",
              "\n",
              "  cancel.remove();\n",
              "\n",
              "  // Disable the input element since further picks are not allowed.\n",
              "  inputElement.disabled = true;\n",
              "\n",
              "  if (!files) {\n",
              "    return {\n",
              "      response: {\n",
              "        action: 'complete',\n",
              "      }\n",
              "    };\n",
              "  }\n",
              "\n",
              "  for (const file of files) {\n",
              "    const li = document.createElement('li');\n",
              "    li.append(span(file.name, {fontWeight: 'bold'}));\n",
              "    li.append(span(\n",
              "        `(${file.type || 'n/a'}) - ${file.size} bytes, ` +\n",
              "        `last modified: ${\n",
              "            file.lastModifiedDate ? file.lastModifiedDate.toLocaleDateString() :\n",
              "                                    'n/a'} - `));\n",
              "    const percent = span('0% done');\n",
              "    li.appendChild(percent);\n",
              "\n",
              "    outputElement.appendChild(li);\n",
              "\n",
              "    const fileDataPromise = new Promise((resolve) => {\n",
              "      const reader = new FileReader();\n",
              "      reader.onload = (e) => {\n",
              "        resolve(e.target.result);\n",
              "      };\n",
              "      reader.readAsArrayBuffer(file);\n",
              "    });\n",
              "    // Wait for the data to be ready.\n",
              "    let fileData = yield {\n",
              "      promise: fileDataPromise,\n",
              "      response: {\n",
              "        action: 'continue',\n",
              "      }\n",
              "    };\n",
              "\n",
              "    // Use a chunked sending to avoid message size limits. See b/62115660.\n",
              "    let position = 0;\n",
              "    do {\n",
              "      const length = Math.min(fileData.byteLength - position, MAX_PAYLOAD_SIZE);\n",
              "      const chunk = new Uint8Array(fileData, position, length);\n",
              "      position += length;\n",
              "\n",
              "      const base64 = btoa(String.fromCharCode.apply(null, chunk));\n",
              "      yield {\n",
              "        response: {\n",
              "          action: 'append',\n",
              "          file: file.name,\n",
              "          data: base64,\n",
              "        },\n",
              "      };\n",
              "\n",
              "      let percentDone = fileData.byteLength === 0 ?\n",
              "          100 :\n",
              "          Math.round((position / fileData.byteLength) * 100);\n",
              "      percent.textContent = `${percentDone}% done`;\n",
              "\n",
              "    } while (position < fileData.byteLength);\n",
              "  }\n",
              "\n",
              "  // All done.\n",
              "  yield {\n",
              "    response: {\n",
              "      action: 'complete',\n",
              "    }\n",
              "  };\n",
              "}\n",
              "\n",
              "scope.google = scope.google || {};\n",
              "scope.google.colab = scope.google.colab || {};\n",
              "scope.google.colab._files = {\n",
              "  _uploadFiles,\n",
              "  _uploadFilesContinue,\n",
              "};\n",
              "})(self);\n",
              "</script> "
            ]
          },
          "metadata": {}
        },
        {
          "output_type": "stream",
          "name": "stdout",
          "text": [
            "Saving wine.csv to wine.csv\n",
            "Saving Data.csv to Data.csv\n"
          ]
        }
      ],
      "source": [
        "import numpy as np\n",
        "import matplotlib.pyplot as plt\n",
        "import pandas as pd\n",
        "\n",
        "from google.colab import files\n",
        "uploaded = files.upload()"
      ]
    },
    {
      "cell_type": "code",
      "source": [
        "# import librari\n",
        "\n",
        "import pandas as pd\n",
        "import numpy as np\n",
        "import random\n",
        "import operator\n",
        "import math"
      ],
      "metadata": {
        "id": "wcBZO9wojkd9"
      },
      "execution_count": null,
      "outputs": []
    },
    {
      "cell_type": "code",
      "source": [
        "# reading the input csv file\n",
        "df_full = pd.read_csv(\"Data.csv\")\n",
        "columns = list(df_full.columns)\n",
        "features = columns[:len(columns)-1]\n",
        "class_labels = list(df_full[columns[-1]])\n",
        "df = df_full[features]"
      ],
      "metadata": {
        "id": "WNMC0OyVVZlF"
      },
      "execution_count": null,
      "outputs": []
    },
    {
      "cell_type": "code",
      "source": [
        "# jumlah atribut\n",
        "Num_attr = len(df.columns)\n",
        "\n",
        "#jumlah cluster\n",
        "k = 2\n",
        "\n",
        "#maksimum iterasi\n",
        "MAX_ITER = 100\n",
        "\n",
        "#jumlah data poin\n",
        "n = len(df)\n",
        "\n",
        "# fuzzy parameter\n",
        "m = 2.00"
      ],
      "metadata": {
        "id": "hHa__GlaVbpb"
      },
      "execution_count": null,
      "outputs": []
    },
    {
      "cell_type": "code",
      "source": [
        "# fungsi akurasi untuk menghitung akurasi dari hasil\n",
        "\n",
        "def accuracy(cluster_labels, class_labels):\n",
        "    county = [0,0]\n",
        "    countn = [0,0]\n",
        "    tp = [0, 0]\n",
        "    tn = [0, 0]\n",
        "    fp = [0, 0]\n",
        "    fn = [0, 0]\n",
        "\n",
        "    for i in range(len(df)):\n",
        "        #Yes = 1, No = 0\n",
        "        if cluster_labels[i] == 1 and class_labels[i] == 'Yes':\n",
        "          tp[0] = tp[0] + 1\n",
        "        if cluster_labels[i] == 0 and class_labels[i] == 'No':\n",
        "          tn[0] = tn[0] + 1\n",
        "        if cluster_labels[i] == 1 and class_labels[i] == 'No':\n",
        "          fp[0]= fp[0] + 1\n",
        "        if cluster_labels[i] == 0 and class_labels[i] == 'Yes':\n",
        "          fn[0]= fn[0] + 1\n",
        "    for i in range(len(df)):\n",
        "\n",
        "        # Yes = 0, No = 1\n",
        "        if cluster_labels[i] == 0 and class_labels[i] == 'Yes':\n",
        "          tp[1] = tp[1] + 1\n",
        "        if cluster_labels[i] == 1 and class_labels[i] == 'No':\n",
        "          tn[1] = tn[1] + 1\n",
        "        if cluster_labels[i] == 0 and class_labels[i] == 'No':\n",
        "          fp[1] = fp[1] +1\n",
        "        if cluster_labels[i] == 1 and class_labels[i] == 'Yes':\n",
        "          fn[1] = fn[1] + 1\n",
        "\n",
        "    a0 = float((tp[0] + tn[0]))/(tp[0] + tn[0] + fn[0] + fp[0])\n",
        "    a1 = float((tp[1] + tn[1]))/(tp[1] + tn[1] + fn[1] + fp[1])\n",
        "    p0 = float(tp[0])/(tp[0] + fp[0])\n",
        "    p1 = float(tp[1])/(tp[1] + fp[1])\n",
        "    r0 = float(tp[0])/(tp[0] + fn[0])\n",
        "    r1 = float(tp[1])/(tp[1] + fn[1])\n",
        "\n",
        "    accuracy = [a0*100, a1*100]\n",
        "    precision = [p0*100,p1*100]\n",
        "    recall = [r0*100, r1*100]\n",
        "\n",
        "    return accuracy, precision, recall"
      ],
      "metadata": {
        "id": "aUw4UEw1VfD7"
      },
      "execution_count": null,
      "outputs": []
    },
    {
      "cell_type": "code",
      "source": [
        "### Inisialisasi jumlah matriks dengan random values\n",
        "def initializeMembershipMatrix():\n",
        "    membership_mat = list()\n",
        "    for i in range(n):\n",
        "        random_num_list = [random.random() for i in range(k)]\n",
        "        summation = sum(random_num_list)\n",
        "        temp_list = [x/summation for x in random_num_list]\n",
        "        membership_mat.append(temp_list)\n",
        "    return membership_mat"
      ],
      "metadata": {
        "id": "GKUOdZvMVgmN"
      },
      "execution_count": null,
      "outputs": []
    },
    {
      "cell_type": "code",
      "source": [
        "### Menghitung pusat cluster dengan setiap interasi\n",
        "def calculateClusterCenter(membership_mat):\n",
        "    cluster_mem_val = zip(*membership_mat)\n",
        "    cluster_centers = list()\n",
        "    for j in range(k):\n",
        "        x = list(zip(*membership_mat))[j]\n",
        "        xraised = [e ** m for e in x]\n",
        "        denominator = sum(xraised)\n",
        "        temp_num = list()\n",
        "        for i in range(n):\n",
        "            data_point = list(df.iloc[i])\n",
        "            prod = [xraised[i] * val for val in data_point]\n",
        "            temp_num.append(prod)\n",
        "        numerator = map(sum, zip(*temp_num))\n",
        "        center = [z/denominator for z in numerator]\n",
        "        cluster_centers.append(center)\n",
        "    return cluster_centers"
      ],
      "metadata": {
        "id": "x4CxX-UJViOD"
      },
      "execution_count": null,
      "outputs": []
    },
    {
      "cell_type": "code",
      "source": [
        "### Update nilai anggota dengan pusat cluster\n",
        "\n",
        "def updateMembershipValue(membership_mat, cluster_centers):\n",
        "    p = float(2/(m-1))\n",
        "    for i in range(n):\n",
        "        x = list(df.iloc[i])\n",
        "        distances = [np.linalg.norm(np.array(list(map(operator.sub, x, cluster_centers[j])))) for j in range(k)]\n",
        "        for j in range(k):\n",
        "            den = sum([math.pow(float(distances[j]/distances[c]), p) for c in range(k)])\n",
        "            membership_mat[i][j] = float(1/den)\n",
        "    return membership_mat"
      ],
      "metadata": {
        "id": "jGfnzaiKVjpS"
      },
      "execution_count": null,
      "outputs": []
    },
    {
      "cell_type": "code",
      "source": [
        "def getClusters(membership_mat):\n",
        "    cluster_labels = list()\n",
        "    for i in range(n):\n",
        "        max_val, idx = max((val, idx) for (idx, val) in enumerate(membership_mat[i]))\n",
        "        cluster_labels.append(idx)\n",
        "    return cluster_labels"
      ],
      "metadata": {
        "id": "V0DJw1jCVlB1"
      },
      "execution_count": null,
      "outputs": []
    },
    {
      "cell_type": "code",
      "source": [
        "### Final fungsi FCM\n",
        "def fuzzyCMeansClustering():\n",
        "    # Membership Matrix\n",
        "    membership_mat = initializeMembershipMatrix()\n",
        "    curr = 0\n",
        "    while curr <= MAX_ITER:\n",
        "        cluster_centers = calculateClusterCenter(membership_mat)\n",
        "        membership_mat = updateMembershipValue(membership_mat, cluster_centers)\n",
        "        cluster_labels = getClusters(membership_mat)\n",
        "        curr += 1\n",
        "\n",
        "    print(membership_mat)\n",
        "    return cluster_labels, cluster_centers"
      ],
      "metadata": {
        "id": "sUtCgJMDVmWt"
      },
      "execution_count": null,
      "outputs": []
    },
    {
      "cell_type": "code",
      "source": [
        "### Memanggil fungsi utama dan mengirimkan hasil akhir dalam label dan pusat cluster\n",
        "print(\"printing the final membership matrix\")\n",
        "labels, centers = fuzzyCMeansClustering()\n",
        "print(\"printing cluster centers\")\n",
        "print(centers)"
      ],
      "metadata": {
        "colab": {
          "base_uri": "https://localhost:8080/"
        },
        "id": "aC_LDsnUVoUC",
        "outputId": "4d0ab706-5175-4a2a-93d4-c18eded94b65"
      },
      "execution_count": 6,
      "outputs": [
        {
          "output_type": "stream",
          "name": "stdout",
          "text": [
            "printing the final membership matrix\n",
            "[[0.5001797751472465, 0.49982022485275346], [0.4998977964852582, 0.5001022035147419], [0.49998369597127723, 0.5000163040287229], [0.49988563802211633, 0.5001143619778836], [0.5000830358895002, 0.4999169641104998], [0.5002261214930452, 0.4997738785069547], [0.5001319232233264, 0.4998680767766736], [0.5001752342029766, 0.49982476579702334], [0.5000579021169076, 0.49994209788309246], [0.5002384165730683, 0.49976158342693167], [0.5001273951485254, 0.4998726048514746], [0.5001114563053889, 0.4998885436946111], [0.4999611310727814, 0.5000388689272187], [0.5001673447917265, 0.4998326552082735], [0.5001852620742607, 0.4998147379257393], [0.5001018115433131, 0.49989818845668693], [0.5002561431708238, 0.49974385682917627], [0.5000661164211219, 0.4999338835788781], [0.5000443270438854, 0.4999556729561146], [0.4998194048254285, 0.5001805951745715], [0.5001931231201777, 0.4998068768798223], [0.5002108110763694, 0.4997891889236305], [0.49983272254871924, 0.5001672774512809], [0.500156884804885, 0.49984311519511504], [0.5001865041800716, 0.4998134958199284], [0.5000415322205204, 0.4999584677794797], [0.500117881283569, 0.49988211871643107], [0.5001409467201318, 0.49985905327986807], [0.5002265382365105, 0.4997734617634894], [0.500297729872025, 0.49970227012797497], [0.4999210225037027, 0.5000789774962974], [0.49995837883081884, 0.500041621169181], [0.5002929547860102, 0.4997070452139898], [0.5001988250645379, 0.499801174935462], [0.5000382644465734, 0.4999617355534266], [0.5001616630158089, 0.4998383369841911], [0.49995583355965895, 0.5000441664403411], [0.4998150472728294, 0.5001849527271706], [0.5002963720686205, 0.4997036279313795], [0.5001207229298685, 0.4998792770701314], [0.5002536381821333, 0.49974636181786664], [0.5000892497256796, 0.49991075027432047], [0.5002509300548906, 0.49974906994510937], [0.5001415391085657, 0.49985846089143426], [0.4998774305903956, 0.5001225694096044], [0.5001202537248723, 0.49987974627512777], [0.500275932072274, 0.49972406792772595], [0.5001823917442422, 0.4998176082557578], [0.49998041110492003, 0.50001958889508], [0.4998334877836312, 0.5001665122163688], [0.49985299246814346, 0.5001470075318565], [0.5002630939961114, 0.49973690600388865], [0.49988851959762515, 0.5001114804023749], [0.49986575687669627, 0.5001342431233038], [0.49987337812689675, 0.5001266218731034], [0.5000736810371138, 0.4999263189628862], [0.4998732292950105, 0.5001267707049896], [0.49994419948834434, 0.5000558005116557], [0.5000652527875528, 0.4999347472124472], [0.49997329110381467, 0.5000267088961853], [0.5000047054473592, 0.4999952945526408], [0.5002175999720073, 0.4997824000279928], [0.5002662024086572, 0.4997337975913428], [0.5002456414839357, 0.4997543585160643], [0.5002609796077879, 0.49973902039221196], [0.5000807274105381, 0.4999192725894619], [0.5001136451826461, 0.4998863548173539], [0.5000737132826688, 0.4999262867173313], [0.5002503978548576, 0.49974960214514247], [0.5002544757974529, 0.49974552420254714], [0.5001786522932862, 0.4998213477067137], [0.5002159220419331, 0.49978407795806684], [0.5002921046676649, 0.4997078953323351], [0.49999652802957056, 0.5000034719704295], [0.5002431262456759, 0.499756873754324], [0.49999761329367753, 0.5000023867063225], [0.5000118200685242, 0.4999881799314759], [0.5003202273353058, 0.4996797726646942], [0.4998888816146873, 0.5001111183853127], [0.49983515598913514, 0.5001648440108648], [0.5002018618479004, 0.4997981381520996], [0.5001569688264312, 0.4998430311735687], [0.500299910972718, 0.499700089027282], [0.5001051493302033, 0.49989485066979666], [0.5002393280156707, 0.49976067198432933], [0.5002236558229578, 0.49977634417704225], [0.5001419451786198, 0.4998580548213802], [0.5000853222441751, 0.4999146777558248], [0.5001464918802252, 0.49985350811977486], [0.5002451806167325, 0.49975481938326755], [0.5002270181508837, 0.4997729818491162], [0.49984966894037813, 0.5001503310596219], [0.4999591359389569, 0.5000408640610432], [0.500228137043358, 0.4997718629566421], [0.5002099113377096, 0.49979008866229024], [0.4999907170605792, 0.5000092829394207], [0.49993676977006063, 0.5000632302299395], [0.5002730647415663, 0.49972693525843354], [0.5000936091063757, 0.49990639089362426], [0.49994546411306845, 0.5000545358869316], [0.5001315093451928, 0.4998684906548072], [0.49995838407465487, 0.5000416159253451], [0.4999558093145366, 0.5000441906854636], [0.49990315644554845, 0.5000968435544516], [0.5001495053933046, 0.4998504946066953], [0.499923094611504, 0.5000769053884959], [0.5002042987450406, 0.49979570125495937], [0.4998704364418511, 0.5001295635581489], [0.49997214642757604, 0.500027853572424], [0.500299716739912, 0.49970028326008803]]\n",
            "printing cluster centers\n",
            "[[67.44521942772215, 66.85468895254168, 69.49134947650819, 70.23741913326846, 67.18262606601323, 67.21074211996445, 71.32746921141405, 71.21885332023946, 63.9003387256891, 63.51884117579742, 70.08192774392556, 70.69126948399432, 67.99217866359356, 69.00187370169623, 64.19294934783132, 61.948440310807676, 68.41863768939294, 67.37361145218823, 66.55550485792199, 64.40157960902032, 74.26372145286179, 72.95533065847536, 68.37479954170864, 68.12122544280251, 60.24988241285971, 59.31428601085097, 62.83780585635323, 61.68382019061014, 64.29268205457922, 63.393696151671556, 71.6824514928634, 72.19249450515977, 62.1552561114914, 62.41942772282225, 65.40077837856764, 64.83771756733147, 65.72752410850728, 64.90977359913495, 68.92942121378445, 67.5389213559039, 66.11307822842801, 64.35971327784166, 55.62247897785357, 54.19618624839957], [67.44568999485762, 66.85440203651952, 69.49046858191146, 70.23530775011768, 67.18100995044085, 67.2074388928671, 71.32707639254855, 71.21751008513948, 63.89966122196104, 63.51752221764361, 70.08170871772529, 70.6905487532881, 67.98963888916224, 68.99812542767077, 64.18886769481362, 61.9424671303523, 68.41772583495253, 67.3718426833721, 66.55358538671442, 64.39841965894986, 74.26355136194886, 72.95375990434425, 68.37065391753151, 68.11513659803278, 60.24102427730219, 59.30389288888968, 62.83492084672499, 61.67981526504313, 64.2891354515498, 63.38812082356543, 71.68118466803583, 72.18932300777085, 62.1538345152091, 62.416935311202835, 65.39922130133006, 64.83500909496654, 65.72702135721623, 64.90840808566507, 68.92512317068321, 67.53380474346815, 66.10510139000158, 64.34937471491727, 55.61388231811013, 54.18562895601148]]\n"
          ]
        }
      ]
    },
    {
      "cell_type": "code",
      "source": [
        "### measuring the accuracy of the result\n",
        "a,p,r = accuracy(labels, class_labels)\n",
        "\n",
        "### printing the values\n",
        "print(\"Accuracy = \" + str(a))\n",
        "print(\"Precision = \" + str(p))\n",
        "print(\"Recall = \" + str(r))"
      ],
      "metadata": {
        "colab": {
          "base_uri": "https://localhost:8080/"
        },
        "id": "B_faX7t5VqBL",
        "outputId": "feb94249-1e33-4577-ae8c-e0242fffe6c6"
      },
      "execution_count": 7,
      "outputs": [
        {
          "output_type": "stream",
          "name": "stdout",
          "text": [
            "Accuracy = [74.54545454545455, 25.454545454545453]\n",
            "Precision = [88.57142857142857, 32.0]\n",
            "Recall = [56.36363636363636, 43.63636363636363]\n"
          ]
        }
      ]
    }
  ]
}